{
  "nbformat": 4,
  "nbformat_minor": 0,
  "metadata": {
    "colab": {
      "name": "Final_EDA_and_Models.ipynb",
      "provenance": [],
      "collapsed_sections": []
    },
    "kernelspec": {
      "name": "python3",
      "display_name": "Python 3"
    },
    "language_info": {
      "name": "python"
    }
  },
  "cells": [
    {
      "cell_type": "code",
      "metadata": {
        "colab": {
          "base_uri": "https://localhost:8080/",
          "height": 34
        },
        "id": "wsKEsTtrzDbB",
        "outputId": "0c591d66-a36e-414a-d0d6-f566518477b6"
      },
      "source": [
        "## Importing Packages\n",
        "\n",
        "import numpy as np, pandas as pd\n",
        "import matplotlib.pyplot as plt, seaborn as sns\n",
        "import scipy.stats as stats\n",
        "import os, sys, operator, warnings\n",
        "\n",
        "\n",
        "# Scikit-learn Auxiliary Modules\n",
        "from sklearn.metrics import accuracy_score, auc, classification_report, confusion_matrix\n",
        "from sklearn.metrics import explained_variance_score, f1_score, mean_squared_error, mean_absolute_error\n",
        "from sklearn.metrics import precision_recall_curve, precision_score, r2_score, roc_auc_score, roc_curve\n",
        "from sklearn.model_selection import GridSearchCV, cross_val_score, cross_val_predict\n",
        "from sklearn.model_selection import KFold, learning_curve, StratifiedKFold, train_test_split, validation_curve \n",
        "from sklearn.feature_selection import chi2, f_classif, SelectKBest\n",
        "from sklearn.preprocessing import StandardScaler, PolynomialFeatures \n",
        "from sklearn.decomposition import PCA\n",
        "from sklearn.pipeline import Pipeline \n",
        "\n",
        "\n",
        "# Scikit-learn Classification Models\n",
        "from sklearn.linear_model import LogisticRegression, Perceptron, SGDClassifier\n",
        "from sklearn.ensemble import GradientBoostingClassifier, RandomForestClassifier, BaggingClassifier, AdaBoostClassifier\n",
        "from sklearn.tree import DecisionTreeClassifier, ExtraTreeClassifier\n",
        "from sklearn.neighbors import KNeighborsClassifier\n",
        "from sklearn.svm import LinearSVC\n",
        "from sklearn.neural_network import MLPClassifier\n",
        "from sklearn.naive_bayes import GaussianNB\n",
        "\n",
        "\n",
        "# Natural Language Processing\n",
        "from sklearn.feature_extraction.text import ENGLISH_STOP_WORDS, CountVectorizer, TfidfVectorizer\n",
        "from textblob import TextBlob, Word, WordList \n",
        "\n",
        "\n",
        "\n",
        "# Plotly \n",
        "import plotly.offline as py\n",
        "import plotly.graph_objs as go\n",
        "import plotly.figure_factory as ff\n",
        "\n",
        "py.offline.init_notebook_mode(connected=True)\n",
        "\n",
        "# Other imports\n",
        "import itertools\n",
        "# import pprint\n",
        "import patsy\n",
        "\n",
        "# Setting some styles and options\n",
        "sns.set_style('whitegrid') \n",
        "pd.options.display.max_columns = 40 \n",
        "\n",
        "%config InlineBackend.figure_format = 'retina'\n",
        " \n",
        "%matplotlib inline\n",
        "\n",
        "print('Packages Imported Successfully!')"
      ],
      "execution_count": null,
      "outputs": [
        {
          "output_type": "display_data",
          "data": {
            "text/html": [
              "        <script type=\"text/javascript\">\n",
              "        window.PlotlyConfig = {MathJaxConfig: 'local'};\n",
              "        if (window.MathJax) {MathJax.Hub.Config({SVG: {font: \"STIX-Web\"}});}\n",
              "        if (typeof require !== 'undefined') {\n",
              "        require.undef(\"plotly\");\n",
              "        requirejs.config({\n",
              "            paths: {\n",
              "                'plotly': ['https://cdn.plot.ly/plotly-latest.min']\n",
              "            }\n",
              "        });\n",
              "        require(['plotly'], function(Plotly) {\n",
              "            window._Plotly = Plotly;\n",
              "        });\n",
              "        }\n",
              "        </script>\n",
              "        "
            ]
          },
          "metadata": {}
        },
        {
          "output_type": "stream",
          "name": "stdout",
          "text": [
            "Packages Imported Successfully!\n"
          ]
        }
      ]
    },
    {
      "cell_type": "code",
      "metadata": {
        "colab": {
          "resources": {
            "http://localhost:8080/nbextensions/google.colab/files.js": {
              "data": "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",
              "ok": true,
              "headers": [
                [
                  "content-type",
                  "application/javascript"
                ]
              ],
              "status": 200,
              "status_text": ""
            }
          },
          "base_uri": "https://localhost:8080/",
          "height": 74
        },
        "id": "kLe40vDdzGqm",
        "outputId": "af7ed5a2-2e9f-4bc8-c61b-faf405f0db31"
      },
      "source": [
        "from google.colab import files\n",
        "uploaded = files.upload()"
      ],
      "execution_count": null,
      "outputs": [
        {
          "output_type": "display_data",
          "data": {
            "text/html": [
              "\n",
              "     <input type=\"file\" id=\"files-1e1d6b12-1b0b-47d3-822f-9dde1d2d187b\" name=\"files[]\" multiple disabled\n",
              "        style=\"border:none\" />\n",
              "     <output id=\"result-1e1d6b12-1b0b-47d3-822f-9dde1d2d187b\">\n",
              "      Upload widget is only available when the cell has been executed in the\n",
              "      current browser session. Please rerun this cell to enable.\n",
              "      </output>\n",
              "      <script src=\"/nbextensions/google.colab/files.js\"></script> "
            ],
            "text/plain": [
              "<IPython.core.display.HTML object>"
            ]
          },
          "metadata": {}
        },
        {
          "output_type": "stream",
          "name": "stdout",
          "text": [
            "Saving globalterrorismdb_0718dist.csv to globalterrorismdb_0718dist.csv\n"
          ]
        }
      ]
    },
    {
      "cell_type": "code",
      "metadata": {
        "colab": {
          "base_uri": "https://localhost:8080/"
        },
        "id": "c3Lo93c3z9Gc",
        "outputId": "9228057e-97ba-4cb0-aafc-fd2313b8a7be"
      },
      "source": [
        "import io\n",
        "data = pd.read_csv(io.BytesIO(uploaded['globalterrorismdb_0718dist.csv']),low_memory = False, encoding='ISO-8859-1')\n",
        "print('Data Loaded Successfuly!')"
      ],
      "execution_count": null,
      "outputs": [
        {
          "output_type": "stream",
          "name": "stdout",
          "text": [
            "Data Loaded Successfuly!\n"
          ]
        }
      ]
    },
    {
      "cell_type": "code",
      "metadata": {
        "id": "zkwxLY-P0WVD"
      },
      "source": [
        "data_columns = [\n",
        "    \n",
        "    ## Spatio-Temporal Variables:\n",
        "                'iyear', 'imonth', 'iday', 'latitude', 'longitude',\n",
        "    \n",
        "    ## Binary Variables: \n",
        "                'extended', 'vicinity', 'crit1', 'crit2', 'crit3', 'doubtterr',\n",
        "                'multiple', 'success', 'suicide', 'guncertain1', ## check back guncertain\n",
        "                'claimed', 'property', 'ishostkid',\n",
        "    \n",
        "    ## Continuous Variables:\n",
        "                'nkill', 'nwound',               \n",
        "    \n",
        "    ## Categorical variables (textual): \n",
        "                'country_txt', 'region_txt', 'alternative_txt', 'attacktype1_txt', 'targtype1_txt',\n",
        "                'natlty1_txt', 'weaptype1_txt', \n",
        "    \n",
        "    ## Descriptive Variables: \n",
        "                'target1', 'gname', 'summary',    \n",
        "    \n",
        "                                            ]\n",
        "\n",
        "gtd = data.loc[:, data_columns]\n",
        "\n",
        "# To avoid confusion, we restrict the dataset to only attacks that were of terrorist nature.\n",
        "\n",
        "gtd = gtd[(gtd.crit1 == 1) & (gtd.crit2 == 1) & (gtd.crit3 == 1) & (gtd.doubtterr == 0)]"
      ],
      "execution_count": null,
      "outputs": []
    },
    {
      "cell_type": "code",
      "metadata": {
        "colab": {
          "base_uri": "https://localhost:8080/",
          "height": 320
        },
        "id": "ONDastDg0WX1",
        "outputId": "4a91aa45-f6ed-4b27-a3de-cbb62fc95799"
      },
      "source": [
        "gtd.describe()"
      ],
      "execution_count": null,
      "outputs": [
        {
          "output_type": "execute_result",
          "data": {
            "text/html": [
              "<div>\n",
              "<style scoped>\n",
              "    .dataframe tbody tr th:only-of-type {\n",
              "        vertical-align: middle;\n",
              "    }\n",
              "\n",
              "    .dataframe tbody tr th {\n",
              "        vertical-align: top;\n",
              "    }\n",
              "\n",
              "    .dataframe thead th {\n",
              "        text-align: right;\n",
              "    }\n",
              "</style>\n",
              "<table border=\"1\" class=\"dataframe\">\n",
              "  <thead>\n",
              "    <tr style=\"text-align: right;\">\n",
              "      <th></th>\n",
              "      <th>iyear</th>\n",
              "      <th>imonth</th>\n",
              "      <th>iday</th>\n",
              "      <th>latitude</th>\n",
              "      <th>longitude</th>\n",
              "      <th>extended</th>\n",
              "      <th>vicinity</th>\n",
              "      <th>crit1</th>\n",
              "      <th>crit2</th>\n",
              "      <th>crit3</th>\n",
              "      <th>doubtterr</th>\n",
              "      <th>multiple</th>\n",
              "      <th>success</th>\n",
              "      <th>suicide</th>\n",
              "      <th>guncertain1</th>\n",
              "      <th>claimed</th>\n",
              "      <th>property</th>\n",
              "      <th>ishostkid</th>\n",
              "      <th>nkill</th>\n",
              "      <th>nwound</th>\n",
              "    </tr>\n",
              "  </thead>\n",
              "  <tbody>\n",
              "    <tr>\n",
              "      <th>count</th>\n",
              "      <td>138879.000000</td>\n",
              "      <td>138879.000000</td>\n",
              "      <td>138879.000000</td>\n",
              "      <td>136000.000000</td>\n",
              "      <td>136000.000000</td>\n",
              "      <td>138879.000000</td>\n",
              "      <td>138879.000000</td>\n",
              "      <td>138879.0</td>\n",
              "      <td>138879.0</td>\n",
              "      <td>138879.0</td>\n",
              "      <td>138879.0</td>\n",
              "      <td>138878.000000</td>\n",
              "      <td>138879.000000</td>\n",
              "      <td>138879.000000</td>\n",
              "      <td>138626.000000</td>\n",
              "      <td>96823.000000</td>\n",
              "      <td>138879.000000</td>\n",
              "      <td>138718.000000</td>\n",
              "      <td>132111.000000</td>\n",
              "      <td>127925.000000</td>\n",
              "    </tr>\n",
              "    <tr>\n",
              "      <th>mean</th>\n",
              "      <td>2003.965668</td>\n",
              "      <td>6.461474</td>\n",
              "      <td>15.519323</td>\n",
              "      <td>23.871581</td>\n",
              "      <td>30.661553</td>\n",
              "      <td>0.049964</td>\n",
              "      <td>0.063487</td>\n",
              "      <td>1.0</td>\n",
              "      <td>1.0</td>\n",
              "      <td>1.0</td>\n",
              "      <td>0.0</td>\n",
              "      <td>0.154294</td>\n",
              "      <td>0.882567</td>\n",
              "      <td>0.038501</td>\n",
              "      <td>0.093597</td>\n",
              "      <td>0.045000</td>\n",
              "      <td>-0.638304</td>\n",
              "      <td>0.062306</td>\n",
              "      <td>2.254339</td>\n",
              "      <td>3.550072</td>\n",
              "    </tr>\n",
              "    <tr>\n",
              "      <th>std</th>\n",
              "      <td>12.869845</td>\n",
              "      <td>3.395808</td>\n",
              "      <td>8.807931</td>\n",
              "      <td>18.290251</td>\n",
              "      <td>55.955341</td>\n",
              "      <td>0.217872</td>\n",
              "      <td>0.284328</td>\n",
              "      <td>0.0</td>\n",
              "      <td>0.0</td>\n",
              "      <td>0.0</td>\n",
              "      <td>0.0</td>\n",
              "      <td>0.361231</td>\n",
              "      <td>0.321937</td>\n",
              "      <td>0.192403</td>\n",
              "      <td>0.291269</td>\n",
              "      <td>1.081471</td>\n",
              "      <td>3.228839</td>\n",
              "      <td>0.470398</td>\n",
              "      <td>10.931702</td>\n",
              "      <td>40.660962</td>\n",
              "    </tr>\n",
              "    <tr>\n",
              "      <th>min</th>\n",
              "      <td>1970.000000</td>\n",
              "      <td>0.000000</td>\n",
              "      <td>0.000000</td>\n",
              "      <td>-53.154613</td>\n",
              "      <td>-157.858333</td>\n",
              "      <td>0.000000</td>\n",
              "      <td>-9.000000</td>\n",
              "      <td>1.0</td>\n",
              "      <td>1.0</td>\n",
              "      <td>1.0</td>\n",
              "      <td>0.0</td>\n",
              "      <td>0.000000</td>\n",
              "      <td>0.000000</td>\n",
              "      <td>0.000000</td>\n",
              "      <td>0.000000</td>\n",
              "      <td>-9.000000</td>\n",
              "      <td>-9.000000</td>\n",
              "      <td>-9.000000</td>\n",
              "      <td>0.000000</td>\n",
              "      <td>0.000000</td>\n",
              "    </tr>\n",
              "    <tr>\n",
              "      <th>25%</th>\n",
              "      <td>1992.000000</td>\n",
              "      <td>4.000000</td>\n",
              "      <td>8.000000</td>\n",
              "      <td>11.840929</td>\n",
              "      <td>8.737554</td>\n",
              "      <td>0.000000</td>\n",
              "      <td>0.000000</td>\n",
              "      <td>1.0</td>\n",
              "      <td>1.0</td>\n",
              "      <td>1.0</td>\n",
              "      <td>0.0</td>\n",
              "      <td>0.000000</td>\n",
              "      <td>1.000000</td>\n",
              "      <td>0.000000</td>\n",
              "      <td>0.000000</td>\n",
              "      <td>0.000000</td>\n",
              "      <td>0.000000</td>\n",
              "      <td>0.000000</td>\n",
              "      <td>0.000000</td>\n",
              "      <td>0.000000</td>\n",
              "    </tr>\n",
              "    <tr>\n",
              "      <th>50%</th>\n",
              "      <td>2010.000000</td>\n",
              "      <td>6.000000</td>\n",
              "      <td>15.000000</td>\n",
              "      <td>31.636400</td>\n",
              "      <td>44.004623</td>\n",
              "      <td>0.000000</td>\n",
              "      <td>0.000000</td>\n",
              "      <td>1.0</td>\n",
              "      <td>1.0</td>\n",
              "      <td>1.0</td>\n",
              "      <td>0.0</td>\n",
              "      <td>0.000000</td>\n",
              "      <td>1.000000</td>\n",
              "      <td>0.000000</td>\n",
              "      <td>0.000000</td>\n",
              "      <td>0.000000</td>\n",
              "      <td>1.000000</td>\n",
              "      <td>0.000000</td>\n",
              "      <td>0.000000</td>\n",
              "      <td>0.000000</td>\n",
              "    </tr>\n",
              "    <tr>\n",
              "      <th>75%</th>\n",
              "      <td>2014.000000</td>\n",
              "      <td>9.000000</td>\n",
              "      <td>23.000000</td>\n",
              "      <td>34.597704</td>\n",
              "      <td>69.147011</td>\n",
              "      <td>0.000000</td>\n",
              "      <td>0.000000</td>\n",
              "      <td>1.0</td>\n",
              "      <td>1.0</td>\n",
              "      <td>1.0</td>\n",
              "      <td>0.0</td>\n",
              "      <td>0.000000</td>\n",
              "      <td>1.000000</td>\n",
              "      <td>0.000000</td>\n",
              "      <td>0.000000</td>\n",
              "      <td>0.000000</td>\n",
              "      <td>1.000000</td>\n",
              "      <td>0.000000</td>\n",
              "      <td>2.000000</td>\n",
              "      <td>2.000000</td>\n",
              "    </tr>\n",
              "    <tr>\n",
              "      <th>max</th>\n",
              "      <td>2017.000000</td>\n",
              "      <td>12.000000</td>\n",
              "      <td>31.000000</td>\n",
              "      <td>74.633553</td>\n",
              "      <td>179.366667</td>\n",
              "      <td>1.000000</td>\n",
              "      <td>1.000000</td>\n",
              "      <td>1.0</td>\n",
              "      <td>1.0</td>\n",
              "      <td>1.0</td>\n",
              "      <td>0.0</td>\n",
              "      <td>1.000000</td>\n",
              "      <td>1.000000</td>\n",
              "      <td>1.000000</td>\n",
              "      <td>1.000000</td>\n",
              "      <td>1.000000</td>\n",
              "      <td>1.000000</td>\n",
              "      <td>1.000000</td>\n",
              "      <td>1384.000000</td>\n",
              "      <td>8191.000000</td>\n",
              "    </tr>\n",
              "  </tbody>\n",
              "</table>\n",
              "</div>"
            ],
            "text/plain": [
              "               iyear         imonth           iday       latitude  \\\n",
              "count  138879.000000  138879.000000  138879.000000  136000.000000   \n",
              "mean     2003.965668       6.461474      15.519323      23.871581   \n",
              "std        12.869845       3.395808       8.807931      18.290251   \n",
              "min      1970.000000       0.000000       0.000000     -53.154613   \n",
              "25%      1992.000000       4.000000       8.000000      11.840929   \n",
              "50%      2010.000000       6.000000      15.000000      31.636400   \n",
              "75%      2014.000000       9.000000      23.000000      34.597704   \n",
              "max      2017.000000      12.000000      31.000000      74.633553   \n",
              "\n",
              "           longitude       extended       vicinity     crit1     crit2  \\\n",
              "count  136000.000000  138879.000000  138879.000000  138879.0  138879.0   \n",
              "mean       30.661553       0.049964       0.063487       1.0       1.0   \n",
              "std        55.955341       0.217872       0.284328       0.0       0.0   \n",
              "min      -157.858333       0.000000      -9.000000       1.0       1.0   \n",
              "25%         8.737554       0.000000       0.000000       1.0       1.0   \n",
              "50%        44.004623       0.000000       0.000000       1.0       1.0   \n",
              "75%        69.147011       0.000000       0.000000       1.0       1.0   \n",
              "max       179.366667       1.000000       1.000000       1.0       1.0   \n",
              "\n",
              "          crit3  doubtterr       multiple        success        suicide  \\\n",
              "count  138879.0   138879.0  138878.000000  138879.000000  138879.000000   \n",
              "mean        1.0        0.0       0.154294       0.882567       0.038501   \n",
              "std         0.0        0.0       0.361231       0.321937       0.192403   \n",
              "min         1.0        0.0       0.000000       0.000000       0.000000   \n",
              "25%         1.0        0.0       0.000000       1.000000       0.000000   \n",
              "50%         1.0        0.0       0.000000       1.000000       0.000000   \n",
              "75%         1.0        0.0       0.000000       1.000000       0.000000   \n",
              "max         1.0        0.0       1.000000       1.000000       1.000000   \n",
              "\n",
              "         guncertain1       claimed       property      ishostkid  \\\n",
              "count  138626.000000  96823.000000  138879.000000  138718.000000   \n",
              "mean        0.093597      0.045000      -0.638304       0.062306   \n",
              "std         0.291269      1.081471       3.228839       0.470398   \n",
              "min         0.000000     -9.000000      -9.000000      -9.000000   \n",
              "25%         0.000000      0.000000       0.000000       0.000000   \n",
              "50%         0.000000      0.000000       1.000000       0.000000   \n",
              "75%         0.000000      0.000000       1.000000       0.000000   \n",
              "max         1.000000      1.000000       1.000000       1.000000   \n",
              "\n",
              "               nkill         nwound  \n",
              "count  132111.000000  127925.000000  \n",
              "mean        2.254339       3.550072  \n",
              "std        10.931702      40.660962  \n",
              "min         0.000000       0.000000  \n",
              "25%         0.000000       0.000000  \n",
              "50%         0.000000       0.000000  \n",
              "75%         2.000000       2.000000  \n",
              "max      1384.000000    8191.000000  "
            ]
          },
          "metadata": {},
          "execution_count": 12
        }
      ]
    },
    {
      "cell_type": "code",
      "metadata": {
        "colab": {
          "base_uri": "https://localhost:8080/",
          "height": 542
        },
        "id": "Jk455PJD0WbK",
        "outputId": "138578ab-7781-4159-bcac-a444ebe12670"
      },
      "source": [
        "print ('9/11 attacks:')\n",
        "gtd[(gtd.iyear == 2001) & (gtd.imonth == 9) & (gtd.iday == 11) & (gtd.country_txt == 'United States')]"
      ],
      "execution_count": null,
      "outputs": [
        {
          "output_type": "stream",
          "name": "stdout",
          "text": [
            "9/11 attacks:\n"
          ]
        },
        {
          "output_type": "execute_result",
          "data": {
            "text/html": [
              "<div>\n",
              "<style scoped>\n",
              "    .dataframe tbody tr th:only-of-type {\n",
              "        vertical-align: middle;\n",
              "    }\n",
              "\n",
              "    .dataframe tbody tr th {\n",
              "        vertical-align: top;\n",
              "    }\n",
              "\n",
              "    .dataframe thead th {\n",
              "        text-align: right;\n",
              "    }\n",
              "</style>\n",
              "<table border=\"1\" class=\"dataframe\">\n",
              "  <thead>\n",
              "    <tr style=\"text-align: right;\">\n",
              "      <th></th>\n",
              "      <th>iyear</th>\n",
              "      <th>imonth</th>\n",
              "      <th>iday</th>\n",
              "      <th>latitude</th>\n",
              "      <th>longitude</th>\n",
              "      <th>extended</th>\n",
              "      <th>vicinity</th>\n",
              "      <th>crit1</th>\n",
              "      <th>crit2</th>\n",
              "      <th>crit3</th>\n",
              "      <th>doubtterr</th>\n",
              "      <th>multiple</th>\n",
              "      <th>success</th>\n",
              "      <th>suicide</th>\n",
              "      <th>guncertain1</th>\n",
              "      <th>claimed</th>\n",
              "      <th>property</th>\n",
              "      <th>ishostkid</th>\n",
              "      <th>nkill</th>\n",
              "      <th>nwound</th>\n",
              "      <th>country_txt</th>\n",
              "      <th>region_txt</th>\n",
              "      <th>alternative_txt</th>\n",
              "      <th>attacktype1_txt</th>\n",
              "      <th>targtype1_txt</th>\n",
              "      <th>natlty1_txt</th>\n",
              "      <th>weaptype1_txt</th>\n",
              "      <th>target1</th>\n",
              "      <th>gname</th>\n",
              "      <th>summary</th>\n",
              "    </tr>\n",
              "  </thead>\n",
              "  <tbody>\n",
              "    <tr>\n",
              "      <th>73126</th>\n",
              "      <td>2001</td>\n",
              "      <td>9</td>\n",
              "      <td>11</td>\n",
              "      <td>40.697132</td>\n",
              "      <td>-73.931351</td>\n",
              "      <td>0</td>\n",
              "      <td>0</td>\n",
              "      <td>1</td>\n",
              "      <td>1</td>\n",
              "      <td>1</td>\n",
              "      <td>0.0</td>\n",
              "      <td>1.0</td>\n",
              "      <td>1</td>\n",
              "      <td>1</td>\n",
              "      <td>0.0</td>\n",
              "      <td>1.0</td>\n",
              "      <td>1</td>\n",
              "      <td>1.0</td>\n",
              "      <td>1384.0</td>\n",
              "      <td>8190.0</td>\n",
              "      <td>United States</td>\n",
              "      <td>North America</td>\n",
              "      <td>NaN</td>\n",
              "      <td>Hijacking</td>\n",
              "      <td>Private Citizens &amp; Property</td>\n",
              "      <td>United States</td>\n",
              "      <td>Vehicle (not to include vehicle-borne explosiv...</td>\n",
              "      <td>Passengers and crew members on American Airlin...</td>\n",
              "      <td>Al-Qaida</td>\n",
              "      <td>09/11/2001: This was one of four related attac...</td>\n",
              "    </tr>\n",
              "    <tr>\n",
              "      <th>73127</th>\n",
              "      <td>2001</td>\n",
              "      <td>9</td>\n",
              "      <td>11</td>\n",
              "      <td>40.697132</td>\n",
              "      <td>-73.931351</td>\n",
              "      <td>0</td>\n",
              "      <td>0</td>\n",
              "      <td>1</td>\n",
              "      <td>1</td>\n",
              "      <td>1</td>\n",
              "      <td>0.0</td>\n",
              "      <td>1.0</td>\n",
              "      <td>1</td>\n",
              "      <td>1</td>\n",
              "      <td>0.0</td>\n",
              "      <td>1.0</td>\n",
              "      <td>1</td>\n",
              "      <td>1.0</td>\n",
              "      <td>1383.0</td>\n",
              "      <td>8191.0</td>\n",
              "      <td>United States</td>\n",
              "      <td>North America</td>\n",
              "      <td>NaN</td>\n",
              "      <td>Hijacking</td>\n",
              "      <td>Private Citizens &amp; Property</td>\n",
              "      <td>United States</td>\n",
              "      <td>Vehicle (not to include vehicle-borne explosiv...</td>\n",
              "      <td>Passengers and crew members on United Airlines...</td>\n",
              "      <td>Al-Qaida</td>\n",
              "      <td>09/11/2001: This was one of four related attac...</td>\n",
              "    </tr>\n",
              "    <tr>\n",
              "      <th>73128</th>\n",
              "      <td>2001</td>\n",
              "      <td>9</td>\n",
              "      <td>11</td>\n",
              "      <td>38.878742</td>\n",
              "      <td>-77.100006</td>\n",
              "      <td>0</td>\n",
              "      <td>0</td>\n",
              "      <td>1</td>\n",
              "      <td>1</td>\n",
              "      <td>1</td>\n",
              "      <td>0.0</td>\n",
              "      <td>1.0</td>\n",
              "      <td>1</td>\n",
              "      <td>1</td>\n",
              "      <td>0.0</td>\n",
              "      <td>1.0</td>\n",
              "      <td>1</td>\n",
              "      <td>1.0</td>\n",
              "      <td>190.0</td>\n",
              "      <td>106.0</td>\n",
              "      <td>United States</td>\n",
              "      <td>North America</td>\n",
              "      <td>NaN</td>\n",
              "      <td>Hijacking</td>\n",
              "      <td>Government (General)</td>\n",
              "      <td>United States</td>\n",
              "      <td>Vehicle (not to include vehicle-borne explosiv...</td>\n",
              "      <td>Passengers and crew members on American Airlin...</td>\n",
              "      <td>Al-Qaida</td>\n",
              "      <td>09/11/2001: This was one of four related attac...</td>\n",
              "    </tr>\n",
              "    <tr>\n",
              "      <th>73129</th>\n",
              "      <td>2001</td>\n",
              "      <td>9</td>\n",
              "      <td>11</td>\n",
              "      <td>40.018464</td>\n",
              "      <td>-78.907197</td>\n",
              "      <td>0</td>\n",
              "      <td>1</td>\n",
              "      <td>1</td>\n",
              "      <td>1</td>\n",
              "      <td>1</td>\n",
              "      <td>0.0</td>\n",
              "      <td>1.0</td>\n",
              "      <td>1</td>\n",
              "      <td>1</td>\n",
              "      <td>0.0</td>\n",
              "      <td>1.0</td>\n",
              "      <td>1</td>\n",
              "      <td>1.0</td>\n",
              "      <td>44.0</td>\n",
              "      <td>6.0</td>\n",
              "      <td>United States</td>\n",
              "      <td>North America</td>\n",
              "      <td>NaN</td>\n",
              "      <td>Hijacking</td>\n",
              "      <td>Private Citizens &amp; Property</td>\n",
              "      <td>United States</td>\n",
              "      <td>Vehicle (not to include vehicle-borne explosiv...</td>\n",
              "      <td>Airline passengers and crew members on board A...</td>\n",
              "      <td>Al-Qaida</td>\n",
              "      <td>09/11/2001: This was one of four related attac...</td>\n",
              "    </tr>\n",
              "  </tbody>\n",
              "</table>\n",
              "</div>"
            ],
            "text/plain": [
              "       iyear  imonth  iday   latitude  longitude  extended  vicinity  crit1  \\\n",
              "73126   2001       9    11  40.697132 -73.931351         0         0      1   \n",
              "73127   2001       9    11  40.697132 -73.931351         0         0      1   \n",
              "73128   2001       9    11  38.878742 -77.100006         0         0      1   \n",
              "73129   2001       9    11  40.018464 -78.907197         0         1      1   \n",
              "\n",
              "       crit2  crit3  doubtterr  multiple  success  suicide  guncertain1  \\\n",
              "73126      1      1        0.0       1.0        1        1          0.0   \n",
              "73127      1      1        0.0       1.0        1        1          0.0   \n",
              "73128      1      1        0.0       1.0        1        1          0.0   \n",
              "73129      1      1        0.0       1.0        1        1          0.0   \n",
              "\n",
              "       claimed  property  ishostkid   nkill  nwound    country_txt  \\\n",
              "73126      1.0         1        1.0  1384.0  8190.0  United States   \n",
              "73127      1.0         1        1.0  1383.0  8191.0  United States   \n",
              "73128      1.0         1        1.0   190.0   106.0  United States   \n",
              "73129      1.0         1        1.0    44.0     6.0  United States   \n",
              "\n",
              "          region_txt alternative_txt attacktype1_txt  \\\n",
              "73126  North America             NaN       Hijacking   \n",
              "73127  North America             NaN       Hijacking   \n",
              "73128  North America             NaN       Hijacking   \n",
              "73129  North America             NaN       Hijacking   \n",
              "\n",
              "                     targtype1_txt    natlty1_txt  \\\n",
              "73126  Private Citizens & Property  United States   \n",
              "73127  Private Citizens & Property  United States   \n",
              "73128         Government (General)  United States   \n",
              "73129  Private Citizens & Property  United States   \n",
              "\n",
              "                                           weaptype1_txt  \\\n",
              "73126  Vehicle (not to include vehicle-borne explosiv...   \n",
              "73127  Vehicle (not to include vehicle-borne explosiv...   \n",
              "73128  Vehicle (not to include vehicle-borne explosiv...   \n",
              "73129  Vehicle (not to include vehicle-borne explosiv...   \n",
              "\n",
              "                                                 target1     gname  \\\n",
              "73126  Passengers and crew members on American Airlin...  Al-Qaida   \n",
              "73127  Passengers and crew members on United Airlines...  Al-Qaida   \n",
              "73128  Passengers and crew members on American Airlin...  Al-Qaida   \n",
              "73129  Airline passengers and crew members on board A...  Al-Qaida   \n",
              "\n",
              "                                                 summary  \n",
              "73126  09/11/2001: This was one of four related attac...  \n",
              "73127  09/11/2001: This was one of four related attac...  \n",
              "73128  09/11/2001: This was one of four related attac...  \n",
              "73129  09/11/2001: This was one of four related attac...  "
            ]
          },
          "metadata": {},
          "execution_count": 13
        }
      ]
    },
    {
      "cell_type": "code",
      "metadata": {
        "id": "5ltb_Bpa0kF8"
      },
      "source": [
        "gtd.weaptype1_txt.replace(\n",
        "    'Vehicle (not to include vehicle-borne explosives, i.e., car or truck bombs)',\n",
        "    'Vehicle', inplace = True)"
      ],
      "execution_count": null,
      "outputs": []
    },
    {
      "cell_type": "code",
      "metadata": {
        "id": "w5KMT3Nf0kI-"
      },
      "source": [
        " gtd.iloc[:,[6, 15, 16, 17]] = gtd.iloc[:,[6, 15, 16, 17]].replace(-9,0)"
      ],
      "execution_count": null,
      "outputs": []
    },
    {
      "cell_type": "code",
      "metadata": {
        "id": "wHqkb3xV0kLI"
      },
      "source": [
        "gtd.claimed.replace(2,1, inplace = True) # (3)"
      ],
      "execution_count": null,
      "outputs": []
    },
    {
      "cell_type": "code",
      "metadata": {
        "id": "4VMbUAg90kN4"
      },
      "source": [
        "gtd.target1 = gtd.target1.str.lower()\n",
        "gtd.gname = gtd.gname.str.lower()\n",
        "gtd.summary = gtd.summary.str.lower()    \n",
        "gtd.target1 = gtd.target1.fillna('unknown').replace('unk','unknown')  "
      ],
      "execution_count": null,
      "outputs": []
    },
    {
      "cell_type": "code",
      "metadata": {
        "id": "lTcUdJPc0kQj"
      },
      "source": [
        "gtd.nkill = np.round(gtd.nkill.fillna(gtd.nkill.median())).astype(int) \n",
        "gtd.nwound = np.round(gtd.nwound.fillna(gtd.nwound.median())).astype(int) "
      ],
      "execution_count": null,
      "outputs": []
    },
    {
      "cell_type": "code",
      "metadata": {
        "id": "QHK1kNe20kTc"
      },
      "source": [
        "gtd['casualties'] = gtd.nkill + gtd.nwound\n",
        "gtd['nclass'] = gtd.casualties.apply(lambda x: 0 if x == 0 else 1) "
      ],
      "execution_count": null,
      "outputs": []
    },
    {
      "cell_type": "code",
      "metadata": {
        "id": "4jbejuh_0kWF"
      },
      "source": [
        "def categorize_perpetrators(column):\n",
        "    '''\n",
        "    This function reorganizes perpetrator groups based on their value_counts, perpetrator groups with\n",
        "    less than 10 occurences are re-assigned to a new category called 'small_time_perpetrator'\n",
        "    Parameter is of the type <pandas.core.series.Series>\n",
        "    '''\n",
        "    perpetrators_count = column.value_counts()\n",
        "    small_time_perpetrator = perpetrators_count[perpetrators_count < 10].index.tolist()\n",
        "    column = column.apply(lambda x: 'small time perpetrator' if x in small_time_perpetrator else x).astype(str)\n",
        "    return column"
      ],
      "execution_count": null,
      "outputs": []
    },
    {
      "cell_type": "code",
      "metadata": {
        "colab": {
          "base_uri": "https://localhost:8080/"
        },
        "id": "9hvvDuaK0kZs",
        "outputId": "113bcb02-aab8-463c-aabd-41c3e16613eb"
      },
      "source": [
        "gtd.gname = categorize_perpetrators(gtd.gname)\n",
        "print('Perpetrators categorized!')"
      ],
      "execution_count": null,
      "outputs": [
        {
          "output_type": "stream",
          "name": "stdout",
          "text": [
            "Perpetrators categorized!\n"
          ]
        }
      ]
    },
    {
      "cell_type": "code",
      "metadata": {
        "id": "h2BX0zDX1f8_"
      },
      "source": [
        "def categorize_target1(column):\n",
        "    '''\n",
        "    This function performs three operations:\n",
        "    - It uses TextBlop in order to lemmatize (e.g. transform a word into its cannonical form) the textual data,\n",
        "    for example, converting 'civilians' to 'civilian'. This enables us to increase the value count for recurrent\n",
        "    words.\n",
        "    - The second part of the function defines a list of top_targets, which include targets mentioned more than\n",
        "    50 times. It then loops through every target string and re-assigns sentences that contain top_targets words.\n",
        "    - Finally, it assigns every target not in top_targets to a new 'isolated target' category.\n",
        "    Parameter is of the type <pandas.core.series.Series>\n",
        "    '''\n",
        "    \n",
        "    temp_target = []\n",
        "    for target in column:\n",
        "        blob = TextBlob(target)\n",
        "#         blob.ngrams = 2\n",
        "        blop = blob.words\n",
        "        lemma = [words.lemmatize() for words in blop]\n",
        "        temp_target.append(\" \".join(lemma))\n",
        "    column = pd.Series(temp_target, index = column.index)\n",
        "    target_count = column.value_counts()\n",
        "    top_targets = target_count[target_count > 50].index.tolist()\n",
        "    for item in top_targets: \n",
        "        column = column.apply(lambda x: item if item in x else x)\n",
        "    column = column.apply(lambda x: 'isolated target' if x not in top_targets else x)\n",
        "    return column"
      ],
      "execution_count": null,
      "outputs": []
    },
    {
      "cell_type": "code",
      "metadata": {
        "colab": {
          "base_uri": "https://localhost:8080/"
        },
        "id": "VkbPof82C1ta",
        "outputId": "24a9b1ba-73a1-473f-a91e-d7db84a84e6b"
      },
      "source": [
        "import nltk\n",
        "nltk.download('wordnet')"
      ],
      "execution_count": null,
      "outputs": [
        {
          "output_type": "stream",
          "name": "stdout",
          "text": [
            "[nltk_data] Downloading package wordnet to /root/nltk_data...\n",
            "[nltk_data]   Package wordnet is already up-to-date!\n"
          ]
        },
        {
          "output_type": "execute_result",
          "data": {
            "text/plain": [
              "True"
            ]
          },
          "metadata": {},
          "execution_count": 40
        }
      ]
    },
    {
      "cell_type": "code",
      "metadata": {
        "colab": {
          "base_uri": "https://localhost:8080/"
        },
        "id": "oXWShgQI1f_U",
        "outputId": "2d9746ff-5782-4611-d80c-9588ba31d69d"
      },
      "source": [
        "\n",
        "gtd.target1 = categorize_target1(gtd.target1)\n",
        "print('Targets categorized!')"
      ],
      "execution_count": null,
      "outputs": [
        {
          "output_type": "stream",
          "name": "stdout",
          "text": [
            "Targets categorized!\n"
          ]
        }
      ]
    },
    {
      "cell_type": "code",
      "metadata": {
        "colab": {
          "base_uri": "https://localhost:8080/"
        },
        "id": "TsFnI1DM1gCa",
        "outputId": "8f3598d8-76e1-4875-b642-d08d5a82aa20"
      },
      "source": [
        "print ('missing data : \\n')\n",
        "print (gtd.drop(['latitude','longitude','summary'], axis = 1).isnull().sum().sort_values(ascending = False).head(4))"
      ],
      "execution_count": null,
      "outputs": [
        {
          "output_type": "stream",
          "name": "stdout",
          "text": [
            "missing data : \n",
            "\n",
            "alternative_txt    138873\n",
            "claimed             42056\n",
            "natlty1_txt          1324\n",
            "guncertain1           253\n",
            "dtype: int64\n"
          ]
        }
      ]
    },
    {
      "cell_type": "code",
      "metadata": {
        "id": "Dxaisww51gFQ"
      },
      "source": [
        "df = gtd.drop(['longitude','latitude', 'summary'], axis =1)"
      ],
      "execution_count": null,
      "outputs": []
    },
    {
      "cell_type": "code",
      "metadata": {
        "colab": {
          "base_uri": "https://localhost:8080/"
        },
        "id": "FuclUYWB1oBk",
        "outputId": "3675de7d-aad9-4bef-ba9d-ec05aa35cf87"
      },
      "source": [
        "df.shape"
      ],
      "execution_count": null,
      "outputs": [
        {
          "output_type": "execute_result",
          "data": {
            "text/plain": [
              "(138879, 29)"
            ]
          },
          "metadata": {},
          "execution_count": 44
        }
      ]
    },
    {
      "cell_type": "code",
      "metadata": {
        "id": "7rm1lsym1oGR"
      },
      "source": [
        "df.guncertain1.fillna(0, inplace = True)\n",
        "df.ishostkid.fillna(0, inplace = True)"
      ],
      "execution_count": null,
      "outputs": []
    },
    {
      "cell_type": "code",
      "metadata": {
        "colab": {
          "base_uri": "https://localhost:8080/"
        },
        "id": "FzoXPstr1gHh",
        "outputId": "0661b386-b7e0-4cb3-966c-2069575ddec5"
      },
      "source": [
        "y_temp = df.claimed\n",
        "y_temp.shape"
      ],
      "execution_count": null,
      "outputs": [
        {
          "output_type": "execute_result",
          "data": {
            "text/plain": [
              "(138879,)"
            ]
          },
          "metadata": {},
          "execution_count": 46
        }
      ]
    },
    {
      "cell_type": "code",
      "metadata": {
        "id": "UJ9GUhYW1sKX"
      },
      "source": [
        "categorical = ['country_txt', 'alternative_txt', 'attacktype1_txt',\n",
        "               'targtype1_txt', 'weaptype1_txt', 'gname', 'target1']\n",
        "\n",
        "numerical = ['extended', 'vicinity', 'multiple', 'success',\n",
        "             'suicide', 'guncertain1', 'casualties', 'property', 'ishostkid',]"
      ],
      "execution_count": null,
      "outputs": []
    },
    {
      "cell_type": "code",
      "metadata": {
        "colab": {
          "base_uri": "https://localhost:8080/",
          "height": 53
        },
        "id": "0pGOrQTX1sNG",
        "outputId": "891cb30e-1d9b-40c0-b256-04eab1b77733"
      },
      "source": [
        "formula =  ' + '.join(numerical)+ ' + ' + ' + '.join(['C('+i+')' for i in categorical]) + ' -1' \n",
        "formula"
      ],
      "execution_count": null,
      "outputs": [
        {
          "output_type": "execute_result",
          "data": {
            "application/vnd.google.colaboratory.intrinsic+json": {
              "type": "string"
            },
            "text/plain": [
              "'extended + vicinity + multiple + success + suicide + guncertain1 + casualties + property + ishostkid + C(country_txt) + C(alternative_txt) + C(attacktype1_txt) + C(targtype1_txt) + C(weaptype1_txt) + C(gname) + C(target1) -1'"
            ]
          },
          "metadata": {},
          "execution_count": 48
        }
      ]
    },
    {
      "cell_type": "code",
      "metadata": {
        "colab": {
          "base_uri": "https://localhost:8080/"
        },
        "id": "kFIok3XO1sQB",
        "outputId": "7be0ac90-00eb-4faf-92fe-81ee2bd129da"
      },
      "source": [
        "X_temp = patsy.dmatrix(formula, data = df, return_type= 'dataframe')\n",
        "print(X_temp.shape, y_temp.shape)"
      ],
      "execution_count": null,
      "outputs": [
        {
          "output_type": "stream",
          "name": "stdout",
          "text": [
            "(6, 855) (138879,)\n"
          ]
        }
      ]
    },
    {
      "cell_type": "code",
      "metadata": {
        "colab": {
          "base_uri": "https://localhost:8080/"
        },
        "id": "fT44HzfF15QN",
        "outputId": "a721ec68-7b49-4de8-de4b-34c653cfb891"
      },
      "source": [
        "X_train = X_temp[~y_temp.isnull()]\n",
        "X_test = X_temp[y_temp.isnull()]"
      ],
      "execution_count": null,
      "outputs": [
        {
          "output_type": "stream",
          "name": "stderr",
          "text": [
            "/usr/local/lib/python3.7/dist-packages/ipykernel_launcher.py:1: UserWarning:\n",
            "\n",
            "Boolean Series key will be reindexed to match DataFrame index.\n",
            "\n",
            "/usr/local/lib/python3.7/dist-packages/ipykernel_launcher.py:2: UserWarning:\n",
            "\n",
            "Boolean Series key will be reindexed to match DataFrame index.\n",
            "\n"
          ]
        }
      ]
    },
    {
      "cell_type": "code",
      "metadata": {
        "id": "bFeLTNtA15S2"
      },
      "source": [
        "y_train = y_temp[~y_temp.isnull()]\n",
        "y_test = y_temp[y_temp.isnull()]"
      ],
      "execution_count": null,
      "outputs": []
    },
    {
      "cell_type": "code",
      "metadata": {
        "colab": {
          "base_uri": "https://localhost:8080/"
        },
        "id": "YmLIXI5q15V5",
        "outputId": "94ef131a-7e88-4e0c-d6e6-9ccb59e62069"
      },
      "source": [
        "X_train.shape, y_train.shape, X_test.shape, y_test.shape"
      ],
      "execution_count": null,
      "outputs": [
        {
          "output_type": "execute_result",
          "data": {
            "text/plain": [
              "((6, 855), (96823,), (0, 855), (42056,))"
            ]
          },
          "metadata": {},
          "execution_count": 83
        }
      ]
    },
    {
      "cell_type": "code",
      "metadata": {
        "id": "rBnzZ9ffUPEv"
      },
      "source": [
        "\n",
        "X_train = X_train.values.reshape(X_train.shape[:])"
      ],
      "execution_count": null,
      "outputs": []
    },
    {
      "cell_type": "markdown",
      "metadata": {
        "id": "tZ-4LSz5U720"
      },
      "source": [
        "Logistic Regression"
      ]
    },
    {
      "cell_type": "code",
      "metadata": {
        "id": "VKuDfLNYUOMe"
      },
      "source": [
        "lr = LogisticRegression(random_state = 42).fit(X_train, y_train) "
      ],
      "execution_count": null,
      "outputs": []
    },
    {
      "cell_type": "code",
      "metadata": {
        "id": "zsZo5er51-Wb"
      },
      "source": [
        "predictions = pd.Series(lr.predict(X_test), index = X_test.index)"
      ],
      "execution_count": null,
      "outputs": []
    },
    {
      "cell_type": "code",
      "metadata": {
        "id": "MZqwdXNE1-Zi"
      },
      "source": [
        "df.claimed.fillna(predictions, inplace = True)"
      ],
      "execution_count": null,
      "outputs": []
    },
    {
      "cell_type": "markdown",
      "metadata": {
        "id": "krVQo14EUniQ"
      },
      "source": [
        "Exploratory Data Analysis"
      ]
    },
    {
      "cell_type": "code",
      "metadata": {
        "id": "SM0BK1vi2FDW"
      },
      "source": [
        "trace = dict(\n",
        "    type = 'choropleth',\n",
        "    locationmode = 'country names',\n",
        "    locations = cpc['country_txt'],\n",
        "\n",
        "    z = cpc['casualties'],\n",
        "    name = 'Casualties',\n",
        "    text = cpc['country_txt'].astype(str) + '<br>' + cpc['casualties'].astype(str),\n",
        "    hoverinfo = 'text+name',\n",
        "    autocolorscale = False,\n",
        "    colorscale = 'Viridis',\n",
        "#     reversescale = True,\n",
        "    marker = dict( line = dict ( color = 'rgb(255,255,255)', width = 0.5))\n",
        "        \n",
        "    )\n",
        "        \n",
        "\n",
        "layout = dict(\n",
        "    title = 'Cummulative Casualties World Map from 1970 until 2015 ',\n",
        "    geo = dict( showframe = False, showcoastlines = True,\n",
        "               projection = dict(type = 'Mercator'), showlakes = True,\n",
        "               lakecolor = 'rgb(255, 255, 255)'       \n",
        "              )\n",
        "    )\n",
        "    \n",
        "\n",
        "py.iplot(dict( data=[trace], layout=layout ))"
      ],
      "execution_count": null,
      "outputs": []
    },
    {
      "cell_type": "code",
      "metadata": {
        "id": "Szhv9bfB2FH8"
      },
      "source": [
        "cpy = df.groupby('iyear', as_index=False)['casualties'].sum()\n",
        "\n",
        "trace = go.Scatter(x = cpy.iyear, y = cpy.casualties,\n",
        "                   name = 'Casualties', line = dict(color = 'salmon', width = 4, dash ='dot'),\n",
        "                   hoverinfo = 'x+y+name')\n",
        "\n",
        "layout = go.Layout(title = 'Casualties per Year')\n",
        "\n",
        "py.iplot(dict(data = [trace], layout = layout))  "
      ],
      "execution_count": null,
      "outputs": []
    },
    {
      "cell_type": "code",
      "metadata": {
        "id": "txlUywFx2FLB"
      },
      "source": [
        "cpr = df.groupby('region_txt', as_index= False)['casualties'].sum()\n",
        "apr = df.groupby('region_txt')['region_txt'].count()\n",
        "\n",
        "trace_1 = go.Bar(x = cpr.region_txt, y = cpr.casualties,\n",
        "                 marker = dict(color = 'rgb(100, 229, 184)'),\n",
        "                 name = 'Casualties')\n",
        "\n",
        "trace_2 = go.Bar(x = apr.index, y = apr,\n",
        "                 marker = dict(color = 'rgb(255, 188, 214)'),\n",
        "                 name = 'Terror Attacks')\n",
        "\n",
        "layout = go.Layout(title = \"Total Casualties and Terror Attacks by Region\", barmode='group' )\n",
        "\n",
        "\n",
        "py.iplot(dict(data = [trace_1,trace_2], layout = layout))"
      ],
      "execution_count": null,
      "outputs": []
    },
    {
      "cell_type": "code",
      "metadata": {
        "id": "VOgwl7QM2FOP"
      },
      "source": [
        "### Top 10 countries by attack/fatalities\n",
        "apc = df.groupby('country_txt')['country_txt'].count().sort_values(ascending= False)\n",
        "cpc = df.groupby('country_txt', as_index= False)['casualties'].sum().sort_values(by = 'casualties', ascending= False)\n",
        "cc = pd.merge(pd.DataFrame(apc), cpc, on = 'country_txt')\n",
        "\n",
        "\n",
        "trace = go.Bar(x = apc.index[:20],y = apc,\n",
        "                 marker = dict(color = 'rgb(255, 188, 214)'),\n",
        "                 name = 'Terror Attacks')\n",
        "\n",
        "layout = go.Layout(title = 'top 20 most targeted countries', barmode='relative' )\n",
        "\n",
        "py.iplot(dict(data = [trace], layout = layout)) "
      ],
      "execution_count": null,
      "outputs": []
    },
    {
      "cell_type": "code",
      "metadata": {
        "id": "e4dX1yZo2FRk"
      },
      "source": [
        "y = df.casualties.apply(lambda x: 0 if x == 0 else 1).values"
      ],
      "execution_count": null,
      "outputs": []
    },
    {
      "cell_type": "code",
      "metadata": {
        "id": "1eQMUKPgME5Z"
      },
      "source": [
        "numerical = ['extended', 'vicinity', 'multiple', 'success', 'claimed',\n",
        "             'suicide', 'guncertain1', 'property', 'ishostkid','natlty1_txt']\n",
        "\n",
        "categorical = ['country_txt', 'alternative_txt', 'attacktype1_txt',\n",
        "              'targtype1_txt', 'weaptype1_txt', 'gname', 'target1']\n"
      ],
      "execution_count": null,
      "outputs": []
    },
    {
      "cell_type": "code",
      "metadata": {
        "id": "Oly18THBME8m"
      },
      "source": [
        "formula =  ' + '.join(numerical)+ ' + ' + ' + '.join(['C('+i+')' for i in categorical]) + ' -1' \n",
        "formula"
      ],
      "execution_count": null,
      "outputs": []
    },
    {
      "cell_type": "code",
      "metadata": {
        "id": "vt3vV-asME_i"
      },
      "source": [
        "X = patsy.dmatrix(formula, data = df, return_type= 'dataframe') "
      ],
      "execution_count": null,
      "outputs": []
    },
    {
      "cell_type": "code",
      "metadata": {
        "id": "bK74cYQyMFCc"
      },
      "source": [
        "print X.shape, y.shape"
      ],
      "execution_count": null,
      "outputs": []
    },
    {
      "cell_type": "code",
      "metadata": {
        "id": "MtLzf2n7MFF0"
      },
      "source": [
        "X.head(2)   "
      ],
      "execution_count": null,
      "outputs": []
    },
    {
      "cell_type": "code",
      "metadata": {
        "id": "AY24DTYrMFKb"
      },
      "source": [
        "pca_model = PCA(n_components=len(X.columns)) \n",
        "pca = pca_model.fit(X)"
      ],
      "execution_count": null,
      "outputs": []
    },
    {
      "cell_type": "code",
      "metadata": {
        "id": "VFtp_blVMFNc"
      },
      "source": [
        "var_ratio = pca.explained_variance_ratio_\n",
        "var_ratio = np.cumsum(var_ratio)\n",
        "plot_cumsum_variance(var_ratio)"
      ],
      "execution_count": null,
      "outputs": []
    },
    {
      "cell_type": "code",
      "metadata": {
        "id": "8pGzBm8YMUvY"
      },
      "source": [
        "X_columns = list(X.columns) #Here we transfrom our variables into a list\n",
        "\n",
        "#We then apply a chi2 statistical measure\n",
        "skb_chi2 = SelectKBest(chi2, k=20)\n",
        "skb_chi2.fit(X, y)\n",
        "\n",
        "# examine results\n",
        "top_15_chi2 = pd.DataFrame([X_columns, list(skb_chi2.scores_)], \n",
        "                     index=['feature','chi2 score']).T.sort_values('chi2 score', ascending=False)[:15]\n",
        "top_15_chi2"
      ],
      "execution_count": null,
      "outputs": []
    },
    {
      "cell_type": "code",
      "metadata": {
        "id": "YtYHY7lAMUyv"
      },
      "source": [
        "plt.figure(figsize=(13,6))\n",
        "\n",
        "sns.barplot(x = top_15_chi2['chi2 score'], y = top_15_chi2.feature, palette= 'viridis')\n",
        "plt.show()"
      ],
      "execution_count": null,
      "outputs": []
    },
    {
      "cell_type": "code",
      "metadata": {
        "id": "6S8jWGQnMU4W"
      },
      "source": [
        "X_train, X_test, y_train, y_test = train_test_split(X, y, test_size = .2, random_state = 102)\n",
        "\n",
        "print X_train.shape, y_train.shape, X_test.shape, y_test.shape"
      ],
      "execution_count": null,
      "outputs": []
    },
    {
      "cell_type": "code",
      "metadata": {
        "id": "xTIGKTx6MFQD"
      },
      "source": [
        ""
      ],
      "execution_count": null,
      "outputs": []
    },
    {
      "cell_type": "markdown",
      "metadata": {
        "id": "fs-sB9BDVD22"
      },
      "source": [
        "Logistic Regression"
      ]
    },
    {
      "cell_type": "code",
      "metadata": {
        "id": "ioKmxw2iMhdg"
      },
      "source": [
        "y_train = y_temp[~y_temp.isnull()]\n",
        "y_test = y_temp[y_temp.isnull()]"
      ],
      "execution_count": null,
      "outputs": []
    },
    {
      "cell_type": "code",
      "metadata": {
        "id": "YOndTPY_cb_f"
      },
      "source": [
        "X_train.shape, y_train.shape, X_test.shape, y_test.shape"
      ],
      "execution_count": null,
      "outputs": []
    },
    {
      "cell_type": "code",
      "metadata": {
        "id": "GA2FxuBOccCa"
      },
      "source": [
        "lr = LogisticRegression(random_state = 42).fit(X_train, y_train) "
      ],
      "execution_count": null,
      "outputs": []
    },
    {
      "cell_type": "code",
      "metadata": {
        "id": "AQNWKrhYccFC"
      },
      "source": [
        "predictions = pd.Series(lr.predict(X_test), index = X_test.index)"
      ],
      "execution_count": null,
      "outputs": []
    },
    {
      "cell_type": "code",
      "metadata": {
        "id": "uGnKWaIJccIy"
      },
      "source": [
        "df.claimed.fillna(predictions, inplace = True)"
      ],
      "execution_count": null,
      "outputs": []
    },
    {
      "cell_type": "code",
      "metadata": {
        "id": "iDfdqyG5c_eH"
      },
      "source": [
        "lr = LogisticRegression(random_state = 56, n_jobs = -1, penalty = 'l1')\n",
        "\n",
        "lr_params = {\n",
        "    'C': np.linspace(0.001, 1, 20),"
      ],
      "execution_count": null,
      "outputs": []
    },
    {
      "cell_type": "code",
      "metadata": {
        "id": "PCmQRmqac_g-"
      },
      "source": [
        "lr_grid = GridSearchCV(lr, lr_params, scoring = 'recall', cv = 5, n_jobs = -1, error_score = 0)"
      ],
      "execution_count": null,
      "outputs": []
    },
    {
      "cell_type": "code",
      "metadata": {
        "id": "KS7zzqVmc_lb"
      },
      "source": [
        "lr_grid.fit(X_train, y_train)"
      ],
      "execution_count": null,
      "outputs": []
    },
    {
      "cell_type": "code",
      "metadata": {
        "id": "t3E6Hp8EdF5J"
      },
      "source": [
        "lr_best_estimator = lr_grid.best_estimator_\n",
        "\n",
        "print 'best estimator: \\n', lr_grid.best_estimator_\n",
        "\n",
        "print '\\naccuracy_score: \\n', lr_grid.score(X_test, y_test)\n",
        "\n",
        "print '\\nbest_params: \\n', lr_grid.best_params_"
      ],
      "execution_count": null,
      "outputs": []
    },
    {
      "cell_type": "code",
      "metadata": {
        "id": "X5qNovnvdGAn"
      },
      "source": [
        "lr_results = pd.DataFrame(lr_grid.cv_results_).sort_values(by = 'param_C')"
      ],
      "execution_count": null,
      "outputs": []
    },
    {
      "cell_type": "code",
      "metadata": {
        "id": "iRLOxPkzdGFM"
      },
      "source": [
        "lr_results.head(3)"
      ],
      "execution_count": null,
      "outputs": []
    },
    {
      "cell_type": "code",
      "metadata": {
        "id": "WboYRLuRdQ2E"
      },
      "source": [
        "lr_results.plot(x ='param_C', y = 'mean_test_score');"
      ],
      "execution_count": null,
      "outputs": []
    },
    {
      "cell_type": "code",
      "metadata": {
        "id": "XvAKNhA7dQ5P"
      },
      "source": [
        "lr_score = cross_val_score(lr_grid.best_estimator_, X_test, y_test, cv = 10, scoring = 'recall').mean()\n",
        "lr_score"
      ],
      "execution_count": null,
      "outputs": []
    },
    {
      "cell_type": "code",
      "metadata": {
        "id": "39aeHh-ndQ89"
      },
      "source": [
        ""
      ],
      "execution_count": null,
      "outputs": []
    },
    {
      "cell_type": "markdown",
      "metadata": {
        "id": "GqV8A-QSVsDR"
      },
      "source": [
        "Random Forest Algorithm"
      ]
    },
    {
      "cell_type": "code",
      "metadata": {
        "id": "rtMx7EoAMhrG"
      },
      "source": [
        "rf = RandomForestClassifier(random_state = 56, n_jobs = -1, n_estimators= 300)\n",
        "\n",
        "rf_params = {\n",
        "    \n",
        "    'criterion': ['gini','entropy'],\n",
        "    'max_features' : ['auto', 'sqrt'],\n",
        "}"
      ],
      "execution_count": null,
      "outputs": []
    },
    {
      "cell_type": "code",
      "metadata": {
        "id": "OLH47qWyWCwu"
      },
      "source": [
        "rf_grid = GridSearchCV(rf, rf_params, scoring = 'recall', cv = 5, n_jobs = -1, error_score= 0)"
      ],
      "execution_count": null,
      "outputs": []
    },
    {
      "cell_type": "code",
      "metadata": {
        "id": "ql3aAN1bWF5g"
      },
      "source": [
        "rf_grid.fit(X_train, y_train)"
      ],
      "execution_count": null,
      "outputs": []
    },
    {
      "cell_type": "code",
      "metadata": {
        "id": "jR6N1q89WF8e"
      },
      "source": [
        "rf_best_estimator =rf_grid.best_estimator_\n",
        "print rf_grid.best_estimator_\n",
        "print\n",
        "print rf_grid.score(X_test, y_test)\n",
        "print\n",
        "print rf_grid.best_params_"
      ],
      "execution_count": null,
      "outputs": []
    },
    {
      "cell_type": "code",
      "metadata": {
        "id": "3_mSSpPEWF_X"
      },
      "source": [
        "rf_results = pd.DataFrame(rf_grid.cv_results_).sort_values(by = 'rank_test_score')"
      ],
      "execution_count": null,
      "outputs": []
    },
    {
      "cell_type": "code",
      "metadata": {
        "id": "VtEckKhdWK_y"
      },
      "source": [
        "rf_results.head(3)  "
      ],
      "execution_count": null,
      "outputs": []
    },
    {
      "cell_type": "code",
      "metadata": {
        "id": "dG7RAMGQWLCx"
      },
      "source": [
        "%store rf_results\n",
        "%store rf_best_estimator"
      ],
      "execution_count": null,
      "outputs": []
    },
    {
      "cell_type": "code",
      "metadata": {
        "id": "TVrFIzLfWLFP"
      },
      "source": [
        "rf_score = cross_val_score(rf_grid.best_estimator_, X_test, y_test, cv = 10, scoring = 'recall', n_jobs = -1).mean()\n",
        "rf_score"
      ],
      "execution_count": null,
      "outputs": []
    },
    {
      "cell_type": "code",
      "metadata": {
        "id": "B7zXOGF7WRvb"
      },
      "source": [
        "%store -r rf_best_estimator"
      ],
      "execution_count": null,
      "outputs": []
    },
    {
      "cell_type": "markdown",
      "metadata": {
        "id": "vLWJ2oHPVzLS"
      },
      "source": [
        "Support Vector Classifier"
      ]
    },
    {
      "cell_type": "code",
      "metadata": {
        "id": "GyOrdopnV1fZ"
      },
      "source": [
        " svm = LinearSVC(random_state = 56, penalty = 'l1', dual = False)\n",
        "    svm_params = {\n",
        "\n",
        "        'C': np.linspace(0.001, 10, 15),\n",
        "\n",
        "    }"
      ],
      "execution_count": null,
      "outputs": []
    },
    {
      "cell_type": "code",
      "metadata": {
        "id": "Yu6Rg9dwfnXF"
      },
      "source": [
        "svm_grid = GridSearchCV(svm, svm_params, cv = 5, scoring = 'recall', n_jobs = -1, error_score = 0)"
      ],
      "execution_count": null,
      "outputs": []
    },
    {
      "cell_type": "code",
      "metadata": {
        "id": "VfSbfhW-fnaR"
      },
      "source": [
        "warnings.filterwarnings('ignore')\n",
        "\n",
        "svm_grid.fit(X_train, y_train)"
      ],
      "execution_count": null,
      "outputs": []
    },
    {
      "cell_type": "code",
      "metadata": {
        "id": "OtB15Fv5fndq"
      },
      "source": [
        "warnings.filterwarnings('default')"
      ],
      "execution_count": null,
      "outputs": []
    },
    {
      "cell_type": "code",
      "metadata": {
        "id": "0RipQlcufnhU"
      },
      "source": [
        "svm_best_estimator = svm_grid.best_estimator_\n",
        "%store svm_best_estimator\n",
        "print svm_grid.best_estimator_\n",
        "print\n",
        "print svm_grid.score(X_test, y_test)\n",
        "\n",
        "print svm_grid.best_params_"
      ],
      "execution_count": null,
      "outputs": []
    },
    {
      "cell_type": "code",
      "metadata": {
        "id": "z-vpKQb0fnkt"
      },
      "source": [
        "svm_results = pd.DataFrame(svm_grid.cv_results_).sort_values(by = 'param_C')"
      ],
      "execution_count": null,
      "outputs": []
    },
    {
      "cell_type": "code",
      "metadata": {
        "id": "YpknWNN-fnnx"
      },
      "source": [
        "svm_results.head(3) "
      ],
      "execution_count": null,
      "outputs": []
    },
    {
      "cell_type": "code",
      "metadata": {
        "id": "QVAuqTimfnr9"
      },
      "source": [
        "svm_results.plot(x = 'param_C', y = 'mean_test_score');"
      ],
      "execution_count": null,
      "outputs": []
    },
    {
      "cell_type": "code",
      "metadata": {
        "id": "yzrxZAAqfnuk"
      },
      "source": [
        "svm_score = cross_val_score(svm_grid.best_estimator_, X_test, y_test, scoring = 'recall', cv = 10, n_jobs = -1).mean()\n",
        "svm_score"
      ],
      "execution_count": null,
      "outputs": []
    },
    {
      "cell_type": "code",
      "metadata": {
        "id": "J85tpC4hf07L"
      },
      "source": [
        "%store svm_score\n",
        "%store svm_results"
      ],
      "execution_count": null,
      "outputs": []
    }
  ]
}